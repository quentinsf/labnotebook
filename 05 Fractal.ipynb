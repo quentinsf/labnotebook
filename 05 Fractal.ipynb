{
 "cells": [
  {
   "cell_type": "markdown",
   "metadata": {},
   "source": [
    "For each value in the complex space _c_ from -1-j to +1+j, iterate through\n",
    "\n",
    "$m_0 = c$\n",
    "\n",
    "$m_{n+1} = m_n^2 + c$\n",
    "\n",
    "At what value of *n* does the magnitude $\\lvert m \\rvert$ exceed 2?"
   ]
  },
  {
   "cell_type": "code",
   "execution_count": null,
   "metadata": {},
   "outputs": [],
   "source": [
    "import numpy as np\n",
    "import cv2 as cv\n",
    "import matplotlib.pyplot as plt"
   ]
  },
  {
   "cell_type": "code",
   "execution_count": null,
   "metadata": {},
   "outputs": [],
   "source": [
    "width=1200\n",
    "height=1200\n",
    "re_min = -1.5\n",
    "re_max =  0.1\n",
    "im_min = -1.5j\n",
    "im_max =  0.1j"
   ]
  },
  {
   "cell_type": "code",
   "execution_count": null,
   "metadata": {},
   "outputs": [],
   "source": [
    "X = np.linspace(re_min, re_max, width)\n",
    "Y = np.linspace(im_min, im_max, height).reshape(height, 1)"
   ]
  },
  {
   "cell_type": "code",
   "execution_count": null,
   "metadata": {},
   "outputs": [],
   "source": [
    "c = np.zeros([height, width])\n",
    "\n",
    "c = c + X + Y\n",
    "c"
   ]
  },
  {
   "cell_type": "code",
   "execution_count": null,
   "metadata": {},
   "outputs": [],
   "source": [
    "n = np.zeros([height, width], dtype=np.uint32)\n",
    "m = np.zeros([height, width], dtype=np.complex)\n",
    "\n",
    "%matplotlib inline"
   ]
  },
  {
   "cell_type": "markdown",
   "metadata": {},
   "source": [
    "You can use Ctrl-Enter to execute this following cell repeatedly:"
   ]
  },
  {
   "cell_type": "code",
   "execution_count": null,
   "metadata": {},
   "outputs": [],
   "source": [
    "# Which m still have a magnitude < 2?\n",
    "smaller = np.absolute(m) < 2\n",
    "\n",
    "# Iterate on those, and increment their count\n",
    "m[smaller] = (m[smaller] * m[smaller]) + c[smaller]\n",
    "n[smaller] += 1\n",
    "\n",
    "# Plot the counts with a pretty colour map\n",
    "fig = plt.figure(figsize = (5,5))\n",
    "plt.imshow(n, cmap=\"gist_earth\");\n",
    "fig.axes[0].ylim=(-1.5,1.5)"
   ]
  },
  {
   "cell_type": "markdown",
   "metadata": {},
   "source": [
    "Or you can run the following, which loops until no more changes:"
   ]
  },
  {
   "cell_type": "code",
   "execution_count": null,
   "metadata": {},
   "outputs": [],
   "source": [
    "prev = smaller.sum()\n",
    "\n",
    "while True:\n",
    "    # Which m still have a magnitude < 2?\n",
    "    smaller = np.absolute(m) < 2\n",
    "    \n",
    "    # See whether we've finished\n",
    "    smaller_count = smaller.sum()\n",
    "    if smaller_count == prev:\n",
    "        break\n",
    "    prev = smaller_count\n",
    "        \n",
    "    # Iterate on those, and increment their count\n",
    "    m[smaller] = (m[smaller] * m[smaller]) + c[smaller]\n",
    "    n[smaller] += 1\n",
    "\n",
    "    \n"
   ]
  },
  {
   "cell_type": "markdown",
   "metadata": {},
   "source": [
    "Let's do a bigger plot:"
   ]
  },
  {
   "cell_type": "code",
   "execution_count": null,
   "metadata": {},
   "outputs": [],
   "source": [
    "%matplotlib inline\n",
    "plt.figure(figsize = (20,20))\n",
    "axes = plt.axes()\n",
    "plt.imshow(n, cmap=\"gist_earth\");"
   ]
  },
  {
   "cell_type": "code",
   "execution_count": null,
   "metadata": {},
   "outputs": [],
   "source": [
    "%matplotlib inline\n",
    "plt.figure(figsize = (12,12))\n",
    "axes = plt.axes()\n",
    "axes.set_xlim([400,700])\n",
    "axes.set_ylim([1100,800])\n",
    "plt.imshow(n, cmap=\"magma\");"
   ]
  },
  {
   "cell_type": "markdown",
   "metadata": {},
   "source": [
    "If you want to zoom in for more detail, pick different values for re_min, re_max, im_min and im_max above and try again."
   ]
  },
  {
   "cell_type": "code",
   "execution_count": null,
   "metadata": {},
   "outputs": [],
   "source": []
  }
 ],
 "metadata": {
  "kernelspec": {
   "display_name": "Lab Notebook Lecture",
   "language": "python",
   "name": "labnotebook"
  },
  "language_info": {
   "codemirror_mode": {
    "name": "ipython",
    "version": 3
   },
   "file_extension": ".py",
   "mimetype": "text/x-python",
   "name": "python",
   "nbconvert_exporter": "python",
   "pygments_lexer": "ipython3",
   "version": "3.7.5"
  }
 },
 "nbformat": 4,
 "nbformat_minor": 2
}
