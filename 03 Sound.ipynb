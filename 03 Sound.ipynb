{
 "cells": [
  {
   "cell_type": "markdown",
   "metadata": {
    "slideshow": {
     "slide_type": "slide"
    }
   },
   "source": [
    "# Not just pictures\n",
    "\n",
    "For example, we haven't even mentioned the vast SciPy library.\n",
    "\n",
    "scipy.io has a range of useful functions, like\n",
    "\n",
    "    scipy.io.loadmat(...)\n",
    "    \n",
    "See scipy.org for more info."
   ]
  },
  {
   "cell_type": "code",
   "execution_count": null,
   "metadata": {},
   "outputs": [],
   "source": [
    "import numpy as np\n",
    "import cv2 as cv\n",
    "import matplotlib.pyplot as plt\n",
    "plt.rcParams['figure.figsize'] = [8, 8]"
   ]
  },
  {
   "cell_type": "code",
   "execution_count": null,
   "metadata": {},
   "outputs": [],
   "source": [
    "from scipy.io import wavfile"
   ]
  },
  {
   "cell_type": "code",
   "execution_count": null,
   "metadata": {},
   "outputs": [],
   "source": [
    "sample_rate, data = wavfile.read(\"coconut.wav\")\n",
    "plt.plot(data);"
   ]
  },
  {
   "cell_type": "code",
   "execution_count": null,
   "metadata": {},
   "outputs": [],
   "source": [
    "import IPython.display as ipd\n",
    "ipd.Audio(data=data, rate=sample_rate)"
   ]
  },
  {
   "cell_type": "markdown",
   "metadata": {},
   "source": [
    "### An aside: Displaying things in notebooks\n",
    "\n",
    "Classes normally display themselves using the `__repr__()` method:"
   ]
  },
  {
   "cell_type": "code",
   "execution_count": null,
   "metadata": {},
   "outputs": [],
   "source": [
    "x = [1,2,3]\n",
    "x.__repr__()"
   ]
  },
  {
   "cell_type": "code",
   "execution_count": null,
   "metadata": {},
   "outputs": [],
   "source": [
    "x"
   ]
  },
  {
   "cell_type": "markdown",
   "metadata": {},
   "source": [
    "But Jupyter will use a `_repr_html_()` method, if it exists:"
   ]
  },
  {
   "cell_type": "code",
   "execution_count": null,
   "metadata": {},
   "outputs": [],
   "source": [
    "class MyList(object):\n",
    "    \n",
    "    def __init__(self, items):\n",
    "        self.items = items\n",
    "        \n",
    "    def _repr_html_(self):\n",
    "        out = \"<ul style='background: #e0e0ff; margin: 2em; border: 1px solid gray; padding: 28px'>\"\n",
    "        for i, v in enumerate(self.items):\n",
    "            out += \"<li><i>Item {}:</i> {}</li>\".format(i, str(v))\n",
    "        out += \"</ul>\"\n",
    "        return out\n",
    "\n",
    "x = MyList([\"ford\", \"arthur\", \"zaphod\"])\n",
    "x"
   ]
  },
  {
   "cell_type": "markdown",
   "metadata": {},
   "source": [
    "So you have a huge amount of flexibility in how you display your objects, and of course, there are lots of things built in that have a `_repr_html_` method:"
   ]
  },
  {
   "cell_type": "code",
   "execution_count": null,
   "metadata": {},
   "outputs": [],
   "source": [
    "ipd.YouTubeVideo(\"_iO5SGsWk54\")"
   ]
  },
  {
   "cell_type": "markdown",
   "metadata": {},
   "source": [
    "### OK, back to the audio\n",
    "\n",
    "We can play with audio data just like any other array:"
   ]
  },
  {
   "cell_type": "code",
   "execution_count": null,
   "metadata": {},
   "outputs": [],
   "source": [
    "squeakydata=data[::2]\n",
    "ipd.Audio(data=squeakydata, rate=sample_rate, autoplay=True)"
   ]
  },
  {
   "cell_type": "code",
   "execution_count": null,
   "metadata": {},
   "outputs": [],
   "source": [
    "slowdata = np.interp(\n",
    "    x = np.arange(0, len(data), 0.67),\n",
    "    \n",
    "    xp = np.arange(len(data)),\n",
    "    fp = data\n",
    ")\n",
    "ipd.Audio(data=slowdata, rate=sample_rate, autoplay=True)"
   ]
  },
  {
   "cell_type": "markdown",
   "metadata": {},
   "source": [
    "Suppose we want a whole crowd of Michael Palins?\n",
    "\n",
    "A quick bit of Jupyter experimentation gave me this:"
   ]
  },
  {
   "cell_type": "code",
   "execution_count": null,
   "metadata": {},
   "outputs": [],
   "source": [
    "import random\n",
    "\n",
    "def make_chorus(data, chorus_size, max_offset, speed_min, speed_max):\n",
    "    \"\"\"\n",
    "    Make a chorus of Michael Palins.\n",
    "    \"\"\"\n",
    "    chorus = np.zeros(int(len(data) / speed_min) + max_offset)\n",
    "    for i in range(chorus_size):\n",
    "        offset = random.randint(0, max_offset)\n",
    "        speed = random.uniform(speed_min, speed_max)\n",
    "        new_length = int(len(data) / speed)\n",
    "        sample = np.interp(\n",
    "            x = np.linspace(0, len(data), num=new_length),\n",
    "            xp = np.arange(len(data)),\n",
    "            fp = data\n",
    "        )\n",
    "        chorus[offset:(offset+new_length)] += sample\n",
    "    \n",
    "    return chorus\n",
    "\n",
    "chorus = make_chorus(data, chorus_size=4, max_offset=4000, speed_min=0.9, speed_max=1.1)\n",
    "\n",
    "ipd.Audio(data=chorus,rate=sample_rate)"
   ]
  },
  {
   "cell_type": "markdown",
   "metadata": {},
   "source": [
    "But suppose we want to play with those parameters a bit more? \n",
    "\n",
    "We can use ipywidgets."
   ]
  },
  {
   "cell_type": "code",
   "execution_count": null,
   "metadata": {},
   "outputs": [],
   "source": [
    "import ipywidgets as widgets\n",
    "w = widgets.IntSlider(min=0, max=20)\n",
    "w"
   ]
  },
  {
   "cell_type": "code",
   "execution_count": null,
   "metadata": {},
   "outputs": [],
   "source": [
    "w"
   ]
  },
  {
   "cell_type": "code",
   "execution_count": null,
   "metadata": {},
   "outputs": [],
   "source": [
    "w.value"
   ]
  },
  {
   "cell_type": "code",
   "execution_count": null,
   "metadata": {},
   "outputs": [],
   "source": [
    "from IPython.display import display\n",
    "\n",
    "chorus_size = widgets.IntSlider(\n",
    "    value=4,\n",
    "    min=0, max=20,\n",
    "    step=1,\n",
    "    description=\"Chorus size\",\n",
    "    readout=True,\n",
    "    style={'description_width': '30%'},\n",
    "    layout={'width': '80%'}\n",
    ")\n",
    "display(chorus_size)\n",
    "\n",
    "max_offset = widgets.IntSlider(\n",
    "    value=4000,\n",
    "    min=0, max=20000,\n",
    "    step=1000,\n",
    "    description=\"Max Offset (samples)\",\n",
    "    readout=True,\n",
    "    style={'description_width': '30%'},\n",
    "    layout={'width': '80%'}\n",
    ")\n",
    "display(max_offset)\n",
    "\n",
    "speed_min = widgets.FloatSlider(\n",
    "        value=0.9,\n",
    "        min=0, max=2.0,\n",
    "        step=0.1,\n",
    "        description=\"Min speed\",\n",
    "        readout=True,\n",
    "        readout_format = '.1f',\n",
    "        style={'description_width': '30%'},\n",
    "        layout={'width': '80%'}\n",
    ")\n",
    "display(speed_min)\n",
    "\n",
    "speed_max = widgets.FloatSlider(\n",
    "        value=1.2,\n",
    "        min=0, max=2.0,\n",
    "        step=0.1,\n",
    "        description=\"Max speed\",\n",
    "        readout=True,\n",
    "        readout_format = '.1f',\n",
    "        style={'description_width': '30%'},\n",
    "        layout={'width': '80%'}\n",
    ")\n",
    "display(speed_max)\n",
    "\n",
    "def new_chorus(change):\n",
    "    chorus = make_chorus(\n",
    "        data, \n",
    "        chorus_size=chorus_size.value, \n",
    "        max_offset=max_offset.value, \n",
    "        speed_min=speed_min.value, \n",
    "        speed_max=speed_max.value\n",
    "    )\n",
    "    plt.plot(chorus)\n",
    "    plt.show()\n",
    "    display(    \n",
    "        ipd.Audio(\n",
    "            data=chorus,\n",
    "            rate=sample_rate\n",
    "        )\n",
    "    )\n",
    "\n",
    "\n",
    "go_but = widgets.Button(description='Generate', layout={'width': '80%'})\n",
    "go_but.on_click(new_chorus)\n",
    "ipd.display(go_but)\n",
    "\n",
    "\n"
   ]
  },
  {
   "cell_type": "markdown",
   "metadata": {},
   "source": [
    "Let us not go any further. It is a silly place."
   ]
  },
  {
   "cell_type": "markdown",
   "metadata": {},
   "source": [
    "## Can be for hardware too..."
   ]
  },
  {
   "cell_type": "code",
   "execution_count": null,
   "metadata": {},
   "outputs": [],
   "source": [
    "ipd.Video(data=\"charles_notebook.m4v\", width=800)"
   ]
  }
 ],
 "metadata": {
  "kernelspec": {
   "display_name": "Lab Notebook Lecture",
   "language": "python",
   "name": "labnotebook"
  },
  "language_info": {
   "codemirror_mode": {
    "name": "ipython",
    "version": 3
   },
   "file_extension": ".py",
   "mimetype": "text/x-python",
   "name": "python",
   "nbconvert_exporter": "python",
   "pygments_lexer": "ipython3",
   "version": "3.7.0"
  }
 },
 "nbformat": 4,
 "nbformat_minor": 2
}
