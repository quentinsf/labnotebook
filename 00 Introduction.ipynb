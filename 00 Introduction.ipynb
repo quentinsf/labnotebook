{
 "cells": [
  {
   "cell_type": "markdown",
   "metadata": {
    "slideshow": {
     "slide_type": "slide"
    }
   },
   "source": [
    "# Introduction: The basics of a Notebook\n",
    "\n",
    "You can write standard Python:"
   ]
  },
  {
   "cell_type": "code",
   "execution_count": 1,
   "metadata": {
    "slideshow": {
     "slide_type": "fragment"
    }
   },
   "outputs": [],
   "source": [
    "import math\n",
    "import csv"
   ]
  },
  {
   "cell_type": "code",
   "execution_count": 3,
   "metadata": {
    "slideshow": {
     "slide_type": "fragment"
    }
   },
   "outputs": [
    {
     "data": {
      "text/plain": [
       "995.041644892855"
      ]
     },
     "execution_count": 3,
     "metadata": {},
     "output_type": "execute_result"
    }
   ],
   "source": [
    "x=4*math.pi\n",
    "math.sqrt(3**x)"
   ]
  },
  {
   "cell_type": "markdown",
   "metadata": {
    "slideshow": {
     "slide_type": "fragment"
    }
   },
   "source": [
    "Cells, a bit like in a spreadsheet, but much, much better. "
   ]
  },
  {
   "cell_type": "markdown",
   "metadata": {
    "slideshow": {
     "slide_type": "slide"
    }
   },
   "source": [
    "## Two modes\n",
    "\n",
    "**Command Mode** and **Edit Mode**\n",
    "\n",
    "Return and Esc switch between them."
   ]
  },
  {
   "cell_type": "code",
   "execution_count": 4,
   "metadata": {},
   "outputs": [
    {
     "name": "stdout",
     "output_type": "stream",
     "text": [
      "123\n"
     ]
    }
   ],
   "source": [
    "print(123)"
   ]
  },
  {
   "cell_type": "code",
   "execution_count": 5,
   "metadata": {
    "collapsed": true,
    "slideshow": {
     "slide_type": "subslide"
    }
   },
   "outputs": [
    {
     "data": {
      "text/plain": [
       "b'<!doctype html>\\n<html>\\n\\n<head>\\n\\t<meta name=\"generator\" content=\"Hugo 0.59.1\" />\\n    <meta http-equiv=\"Content-type\" content=\"text/html; charset=utf-8\">\\n    <meta name=\"viewport\" content=\"width=device-width, initial-scale=1.0\">\\n    <meta name=\"keywords\" content=\"\">\\n    <meta name=\"description\" content=\"\">\\n    <title>\\n  About Quentin &ndash; Quentin Stafford-Fraser\\n</title>\\n    <link rel=\"shortcut icon\" href=\"/img/favicon.ico\">\\n\\n    <link rel=\"stylesheet\" href=\"/css/bootstrap.css\">\\n    <link rel=\"stylesheet\" href=\"/css/bootstrap-theme.css\">\\n\\n    \\n    <link rel=\"stylesheet\" href=\"/css/styles.css\">\\n\\n    \\n\\n    <script src=\"/js/jquery-1.9.1.min.js\"></script>\\n    <script src=\"/js/bootstrap.js\"></script>\\n    <script src=\"/js/bootstrap-extras.js\"></script>\\n\\n    \\n\\n    \\n\\n    \\n</head>\\n\\n<body id=\"body\">\\n\\n<div id=\"outer\" class=\"container\">\\n<div id=\"header\" class=\"row\">\\n    <div class=\"col-xs-3 col-md-3\"><a class=\"site-title\" href=\"/\"><span class=\"glyphicon glyphicon-home\" aria-hidden=\"true\"></span></a></div>\\n    <div class=\"col-xs-9 col-md-9 site-title\">\\n    <a class=\"site-title\" href=\"/\">Quentin Stafford-Fraser</a></div>\\n</div>\\n\\n<div id=\"topmenu\" class=\"row\">\\n    \\n\\n     \\n    <div class=\"col-xs-1 visible-xs\">\\n    <a role=\"button\"\\n    data-toggle=\"collapse\" \\n    data-target=\"#primary-menu\" \\n    aria-expanded=\"true\" aria-controls=\"primary-menu\">\\n    <span class=\"glyphicon glyphicon-align-justify\" aria-hidden=\"true\"></span>\\n    </a>\\n    </div>\\n\\n    \\n    <div class=\"col-md-12 col-sm-12 col-xs-5\">\\n    <ul id=\"primary-menu\" class=\"nav navbar-nav collapse navbar-collapse\">\\n    \\n    \\n        <li class=\"active\">\\n            <a href=\"/\">\\n                \\n                <span>About Quentin</span>\\n            </a>\\n        </li>\\n    \\n        <li class=\"\">\\n            <a href=\"/companies/\">\\n                \\n                <span>Companies</span>\\n            </a>\\n        </li>\\n    \\n        <li class=\"\">\\n            <a href=\"/writings/\">\\n                \\n                <span>Writing</span>\\n            </a>\\n        </li>\\n    \\n        <li class=\"\">\\n            <a href=\"/talks/\">\\n                \\n                <span>Talks &amp; Interviews</span>\\n            </a>\\n        </li>\\n    \\n        <li class=\"\">\\n            <a href=\"/research/\">\\n                \\n                <span>Research</span>\\n            </a>\\n        </li>\\n    \\n        <li class=\"\">\\n            <a href=\"/personal/\">\\n                \\n                <span>Personal</span>\\n            </a>\\n        </li>\\n    \\n        <li class=\"\">\\n            <a href=\"/software/\">\\n                \\n                <span>Software</span>\\n            </a>\\n        </li>\\n    \\n        <li class=\"\">\\n            <a href=\"https://statusq.org\">\\n                \\n                <span>Blog</span>\\n            </a>\\n        </li>\\n    \\n    <li class=\"divider-vertical\"></li>\\n</ul>\\n\\n    </div>\\n\\n    \\n    <div id=\"toptree\" class=\"col-xs-6 visible-xs\">\\n    \\n\\n\\n   <div class=\"menu-primary-link\">About Quentin</div>\\n\\n\\n\\n    </div>\\n    \\n</div>\\n\\n<div class=\"row\">\\n\\n\\n\\n<div id=\"left-column\" class=\"col-md-2 col-sm-2 hidden-xs\">\\n    \\n    <div id=\"leftmenu\" class=\"panel panel-default\">\\n\\n\\n   <div class=\"menu-primary-link\">About Quentin</div>\\n\\n\\n</div>\\n    \\n</div>\\n\\n<div id=\"main-content\" class=\"main-content col-md-8 col-sm-10 col-xs-12 page\">\\n\\n    \\n  \\n\\n<h1 id=\"about-quentin\">About Quentin</h1>\\n\\n<p><em>Thanks for visiting my site! There&rsquo;s quite a lot of information here, but I promise you that I didn&rsquo;t set out to build such a substantial monument to myself online! It just kept growing gradually since around the start of the millennium, and I&rsquo;m not very good at trimming it. So you might appreciate&hellip;</em></p>\\n\\n<h2 id=\"an-executive-summary\">An executive summary:</h2>\\n\\n<p>I&rsquo;m a computer scientist, entrepreneur, part-time academic and full-time gadget enthusiast based in Cambridge, England.</p>\\n\\n<ul>\\n<li><p>I&rsquo;m the CEO of a small company called &lsquo;<a href=\"http://telemarq.com\">Telemarq</a>&rsquo;, which does a mix of software development, tech consultancy, photography, teaching and writing.</p></li>\\n\\n<li><p>I recently served as the interim Director of Engineering at <a href=\"https://www.digicatapult.org.uk\">the Digital Catapult</a>, while they searched for a permanent, full-time candidate.</p></li>\\n\\n<li><p>For most of the past few years, I&rsquo;ve held a part-time research post at the <a href=\"http://www.cl.cam.ac.uk/~qs101/\">Cambridge University Computer Lab</a>, most recently working on <a href=\"/research/endeavour/\">the Endeavour project</a>. \\xc2\\xa0Before that I was working on <a href=\"/research/pico/\" title=\"Pico\">Pico</a>. There&rsquo;s a partial list of publications <a href=\"/publications\">here</a>.</p></li>\\n\\n<li><p>I have a blog called Status-Q at <a href=\"https://statusq.org/\">statusq.org</a>.</p></li>\\n\\n<li><p>You can find me as &lsquo;quentinsf&rsquo; on most online services, and my name makes me easy to search for on others! Keep in touch on <a href=\"https://twitter.com/quentinsf\">Twitter</a>, <a href=\"https://www.youtube.com/user/quentinsf\">YouTube</a>,\\xc2\\xa0<a href=\"http://500px.com/quentinsf\">500px</a>, <a href=\"https://photo.telemarq.com\">SmugMug</a> and <a href=\"http://flickr.com/photos/quentinsf\">Flickr</a>, <a href=\"http://uk.linkedin.com/in/quentinsf\">LinkedIn</a> and Skype, <a href=\"https://github.com/quentinsf\">GitHub</a> and <a href=\"http://en.wikipedia.org/wiki/Quentin_Stafford-Fraser\">Wikipedia</a>,  <a href=\"http://scholar.google.co.uk/citations?user=VMoALpsAAAAJ\">Google Scholar</a> and <a href=\"https://www.researchgate.net/profile/Quentin_Stafford-Fraser\">ResearchGate</a>. \\xc2\\xa0You can email me as quentin*@*pobox.com.</p></li>\\n\\n<li><p>I have often been credited in the media with inventing the webcam. This is not entirely justified, though I certainly did have something to do with it. You can find the story <a href=\"/coffeepot/\">here</a>.</p></li>\\n\\n<li><p>I love gadgets, and have quite a few of them around the house, but the biggest one yet was when I bought <a href=\"https://statusq.org/archives/2015/11/29/7137/\">an electric car</a>!  I&rsquo;ve also become rather fond of home automation, connecting almost everything in my home up through the amazing <a href=\"https://www.home-assistant.io\">Home Assistant</a> system.</p></li>\\n\\n<li><p>My previous startup, before Telemarq, was Camvine (Cambridge Visual Networks), a company developing new applications based around networked displays, which I started in 2007. You can read more about Camvine <a href=\"/companies/camvine/\">here</a>.</p></li>\\n\\n<li><p>I was also a founder and managing director of the <a href=\"/companies/ndiyo/\">Ndiyo</a> project. This attempted to find new, more affordable network computing architectures for the billions of people who will <em>never</em> be able to afford one PC each.</p></li>\\n\\n<li><p>Before that I was working on <a href=\"/companies/exbiblio/\">Exbiblio</a>, which I co-founded in 2004, with the aim of endowing paper documents with some of the power of digital ones.</p></li>\\n\\n<li><p>I also co-founded Newnham Research, now <a href=\"/companies/displaylink/\">DisplayLink</a>, in 2003 and was the CEO for its first couple of years.\\xc2\\xa0</p></li>\\n\\n<li><p>I&rsquo;ve authored and/or been listed as an inventor on <a href=\"/patents/\">dozens of patents</a>. None of these have yet made me any money, but they&rsquo;ve done OK for other people! Most are now owned by Google.</p></li>\\n\\n<li><p>For several years I was a Research Scientist at AT&amp;T Laboratories Cambridge, UK, the lab which was formerly ORL. You can find out about what I did at AT&amp;T <a href=\"/research/orl-att/\">here</a>.</p></li>\\n\\n<li><p>I did <a href=\"/phd/\">a Ph.D. on Augmented Reality</a> in the <a href=\"http://www.cl.cam.ac.uk/Research/Rainbow/\">Rainbow Group</a> at the <a href=\"http://www.cl.cam.ac.uk/\">University of Cambridge Computer Lab</a>. I was sponsored by (and spent much of my time at) Xerox EuroPARC. More details on my research interests can be found <a href=\"/research/\">here</a>.</p></li>\\n\\n<li><p>I was, I think, the first full-time Computer Officer at a Cambridge college. During this time, I believe I may have created <a href=\"/software/venn\">the world&rsquo;s first ten-set Venn diagram</a>.</p></li>\\n\\n<li><p>If your browser will let you, you can also hear me say <a href=\"/personal/me.au\">hello</a>. <em>(That&rsquo;s a comment that tells you how old the recording is! Not all browsers, or indeed computers, could play audio when I recorded it&hellip;)</em></p></li>\\n\\n<li><p>You can find some other personal info <a href=\"/personal/\">here</a>.</p></li>\\n\\n<li><p>I think I ran the first web server in Cambridge. I certainly ran the first one in the University, which then became the platform for Computer Science students who wanted to do projects around this new-fangled World Wide Web thing&hellip;</p></li>\\n</ul>\\n\\n\\n\\n    <div class=\"row\">\\n    <div class=\"breadcrumb\">\\n    \\n    \\n        \\n            <a href=\"https://quentinsf.com/\"  class=\"active\">Home</a>\\n        \\n    \\n\\n\\n.\\n    <span class=\"visible-xs-inline mobile-menu-prompt\">Click the <span class=\"glyphicon glyphicon-align-justify\" aria-hidden=\"true\"></span> button at the top for more.</span>\\n    </div>\\n    </div>\\n\\n</div>\\n\\n<div id=\"right-column\" class=\"col-md-2 col-sm-12 col-xs-12\">\\n    <img id=\"biopic\" src=\"/img/qsf-lab-square.jpg\" class=\"hidden-sm hidden-xs\"/>\\n    \\n    <div class=\"panel panel-default\">\\n    <div class=\"panel-body\">\\n    \\n    \\n    </div>\\n    </div>\\n</div>\\n\\n\\n\\n</div>\\n\\n\\n<footer>\\n<div>\\n  \\n    \\n\\n    <div class=\"row\">\\n    <p class=\"site-info text-center\">\\n    </p>\\n    </div>\\n\\n</div>\\n</footer>\\n</div>\\n\\n\\n\\n</body>\\n</html>\\n\\n\\n'"
      ]
     },
     "execution_count": 5,
     "metadata": {},
     "output_type": "execute_result"
    }
   ],
   "source": [
    "import requests\n",
    "resp = requests.get(\"https://quentinsf.com\")\n",
    "resp.content"
   ]
  },
  {
   "cell_type": "code",
   "execution_count": 9,
   "metadata": {},
   "outputs": [],
   "source": [
    "x=1"
   ]
  },
  {
   "cell_type": "code",
   "execution_count": 10,
   "metadata": {},
   "outputs": [
    {
     "data": {
      "text/plain": [
       "2"
      ]
     },
     "execution_count": 10,
     "metadata": {},
     "output_type": "execute_result"
    }
   ],
   "source": [
    "x = x + 1\n",
    "x"
   ]
  },
  {
   "cell_type": "code",
   "execution_count": null,
   "metadata": {},
   "outputs": [],
   "source": []
  },
  {
   "cell_type": "markdown",
   "metadata": {
    "slideshow": {
     "slide_type": "slide"
    }
   },
   "source": [
    "## Two (main) cell types\n",
    "\n",
    "In a different type of cell, you can:\n",
    "\n",
    "* write Markdown\n",
    "* embed LaTeX equations in it\n",
    "\n",
    "So you can add comments to your code explaining that, to calculate your cycling speed, you must make use of the fact that\n",
    "\n",
    "\n",
    "$m = \\frac{m_0}{\\sqrt{1 - v^2/c^2}}$."
   ]
  },
  {
   "cell_type": "code",
   "execution_count": null,
   "metadata": {},
   "outputs": [],
   "source": []
  },
  {
   "cell_type": "code",
   "execution_count": null,
   "metadata": {},
   "outputs": [],
   "source": []
  },
  {
   "cell_type": "markdown",
   "metadata": {
    "slideshow": {
     "slide_type": "slide"
    }
   },
   "source": [
    "## Some basic operations and keystrokes:\n",
    "\n",
    "Toggling toolbars.\n",
    "\n",
    "* Return and Esc\n",
    "* A and B\n",
    "* X, C, V\n",
    "* DD\n",
    "\n",
    "The different types of Return:\n",
    "* Shift-Return\n",
    "* Ctrl-Return\n",
    "* Alt-Return\n",
    "\n",
    "Choosing cell type:\n",
    "* M (for Markdown)\n",
    "* Y (for code)"
   ]
  },
  {
   "cell_type": "code",
   "execution_count": 11,
   "metadata": {},
   "outputs": [
    {
     "data": {
      "text/plain": [
       "2"
      ]
     },
     "execution_count": 11,
     "metadata": {},
     "output_type": "execute_result"
    }
   ],
   "source": [
    "\"hello\" + \" world\"\n",
    "\n",
    "x = 2\n",
    "x"
   ]
  },
  {
   "cell_type": "code",
   "execution_count": 20,
   "metadata": {},
   "outputs": [
    {
     "data": {
      "text/plain": [
       "11"
      ]
     },
     "execution_count": 20,
     "metadata": {},
     "output_type": "execute_result"
    }
   ],
   "source": [
    "x += 1\n",
    "x"
   ]
  },
  {
   "cell_type": "code",
   "execution_count": null,
   "metadata": {},
   "outputs": [],
   "source": []
  },
  {
   "cell_type": "code",
   "execution_count": null,
   "metadata": {},
   "outputs": [],
   "source": [
    "x *2"
   ]
  },
  {
   "cell_type": "code",
   "execution_count": null,
   "metadata": {},
   "outputs": [],
   "source": [
    "y = 2"
   ]
  },
  {
   "cell_type": "markdown",
   "metadata": {},
   "source": [
    "Merging, splitting.  Other keyboard shortcuts on Help menu."
   ]
  },
  {
   "cell_type": "markdown",
   "metadata": {},
   "source": [
    "One underlying Python kernel behind each notebook."
   ]
  },
  {
   "cell_type": "code",
   "execution_count": null,
   "metadata": {},
   "outputs": [],
   "source": [
    "x = x + 1\n",
    "x"
   ]
  },
  {
   "cell_type": "code",
   "execution_count": null,
   "metadata": {},
   "outputs": [],
   "source": [
    "%load qhue.py"
   ]
  },
  {
   "cell_type": "markdown",
   "metadata": {},
   "source": [
    "Another useful one is `%%script`, which is the equivalent of the `#!` shebang in Unix scripts:"
   ]
  },
  {
   "cell_type": "code",
   "execution_count": 22,
   "metadata": {},
   "outputs": [
    {
     "name": "stdout",
     "output_type": "stream",
     "text": [
      "convert code_shot.png code_shot.jpg\n",
      "convert dataframe.png dataframe.jpg\n",
      "convert example-ipython.png example-ipython.jpg\n",
      "convert example-qtconsole.png example-qtconsole.jpg\n",
      "convert landmark_scheme_68.png landmark_scheme_68.jpg\n",
      "convert notebook_components.png notebook_components.jpg\n",
      "convert pandas-dataframe-shadow.png pandas-dataframe-shadow.jpg\n"
     ]
    }
   ],
   "source": [
    "%%script bash\n",
    "\n",
    "for i in *.png\n",
    "do\n",
    "   BASE=$(echo \"$i\" | sed 's/\\.png//')\n",
    "   # Not actualy running it, for now\n",
    "   echo convert ${BASE}.png ${BASE}.jpg \n",
    "done\n"
   ]
  },
  {
   "cell_type": "markdown",
   "metadata": {},
   "source": [
    "Lots more examples to come.\n",
    "\n",
    "OK, how is a notebook stored?"
   ]
  },
  {
   "cell_type": "code",
   "execution_count": 23,
   "metadata": {
    "scrolled": true
   },
   "outputs": [
    {
     "name": "stdout",
     "output_type": "stream",
     "text": [
      "00 Introduction.ipynb 02 Images.ipynb       04 Pandas.ipynb\r\n",
      "01 NumPy.ipynb        03 Sound.ipynb        05 Fractal.ipynb\r\n"
     ]
    }
   ],
   "source": [
    "!ls *.ipynb"
   ]
  },
  {
   "cell_type": "code",
   "execution_count": 24,
   "metadata": {},
   "outputs": [
    {
     "name": "stdout",
     "output_type": "stream",
     "text": [
      "{\r\n",
      " \"cells\": [\r\n",
      "  {\r\n",
      "   \"cell_type\": \"markdown\",\r\n",
      "   \"metadata\": {\r\n",
      "    \"slideshow\": {\r\n",
      "     \"slide_type\": \"slide\"\r\n",
      "    }\r\n",
      "   },\r\n",
      "   \"source\": [\r\n",
      "    \"# Introduction: The basics of a Notebook\\n\",\r\n",
      "    \"\\n\",\r\n",
      "    \"You can write standard Python:\"\r\n",
      "   ]\r\n",
      "  },\r\n",
      "  {\r\n",
      "   \"cell_type\": \"code\",\r\n",
      "   \"execution_count\": 1,\r\n",
      "   \"metadata\": {\r\n",
      "    \"slideshow\": {\r\n",
      "     \"slide_type\": \"fragment\"\r\n",
      "    }\r\n",
      "   },\r\n",
      "   \"outputs\": [],\r\n",
      "   \"source\": [\r\n",
      "    \"import math\\n\",\r\n",
      "    \"import csv\"\r\n",
      "   ]\r\n",
      "  },\r\n",
      "  {\r\n",
      "   \"cell_type\": \"code\",\r\n",
      "   \"execution_count\": 3,\r\n",
      "   \"metadata\": {\r\n",
      "    \"slideshow\": {\r\n",
      "     \"slide_type\": \"fragment\"\r\n",
      "    }\r\n",
      "   },\r\n",
      "   \"outputs\": [\r\n",
      "    {\r\n",
      "     \"data\": {\r\n",
      "      \"text/plain\": [\r\n",
      "       \"995.041644892855\"\r\n",
      "      ]\r\n",
      "     },\r\n",
      "     \"execution_count\": 3,\r\n",
      "     \"metadata\": {},\r\n",
      "     \"output_type\": \"execute_result\"\r\n",
      "    }\r\n",
      "   ],\r\n",
      "   \"source\": [\r\n",
      "    \"x=4*math.pi\\n\",\r\n",
      "    \"math.sqrt(3**x)\"\r\n",
      "   ]\r\n",
      "  },\r\n",
      "  {\r\n",
      "   \"cell_type\": \"markdown\",\r\n",
      "   \"metadata\": {\r\n",
      "    \"slideshow\": {\r\n",
      "     \"slide_type\": \"fragment\"\r\n",
      "    }\r\n",
      "   },\r\n",
      "   \"source\": [\r\n",
      "    \"Cells, a bit like in a spreadsheet, but much, much better. \"\r\n",
      "   ]\r\n",
      "  },\r\n",
      "  {\r\n",
      "   \"cell_type\": \"markdown\",\r\n",
      "   \"metadata\": {\r\n",
      "    \"slideshow\": {\r\n",
      "     \"slide_type\": \"slide\"\r\n",
      "    }\r\n",
      "   },\r\n",
      "   \"source\": [\r\n",
      "    \"## Two modes\\n\",\r\n",
      "    \"\\n\",\r\n",
      "    \"**Command Mode** and **Edit Mode**\\n\",\r\n",
      "    \"\\n\",\r\n",
      "    \"Return and Esc switch between them.\"\r\n",
      "   ]\r\n",
      "  },\r\n",
      "  {\r\n",
      "   \"cell_type\": \"code\",\r\n",
      "   \"execution_count\": 4,\r\n",
      "   \"metadata\": {},\r\n",
      "   \"outputs\": [\r\n",
      "    {\r\n",
      "     \"name\": \"stdout\",\r\n",
      "     \"output_type\": \"stream\",\r\n",
      "     \"text\": [\r\n",
      "      \"123\\n\"\r\n",
      "     ]\r\n",
      "    }\r\n",
      "   ],\r\n",
      "   \"source\": [\r\n",
      "    \"print(123)\"\r\n",
      "   ]\r\n",
      "  },\r\n",
      "  {\r\n",
      "   \"cell_type\": \"code\",\r\n",
      "   \"execution_count\": 5,\r\n"
     ]
    }
   ],
   "source": [
    "!head -n 100 \"00 Introduction.ipynb\""
   ]
  },
  {
   "cell_type": "markdown",
   "metadata": {},
   "source": [
    "## Sharing your notebooks\n",
    "\n",
    "You can just send people the .ipynb files; they'll contain your input and (optionally) your output.\n",
    "\n",
    "Other ways to view and run:\n",
    "\n",
    "* **nbconvert** - e.g. convert to static HTML, LaTeX, PDF, Python script, etc\n",
    "* **Github & Bitbucket** - rendered, but static, e.g. for [qhue](https://github.com/quentinsf/qhue)\n",
    "* **nbviewer** - http://nbviewer.jupyter.org\n",
    "* **binder** or **Azure notebooks** - take a github repo with notebooks, and run them in a Docker session   \\[mybinder.org\\]\n",
    "* **jupyterhub** - run locally to make jupyter environments available to users\n",
    "\n",
    "---"
   ]
  },
  {
   "cell_type": "markdown",
   "metadata": {},
   "source": [
    "## Understanding the kernel setting\n",
    "\n",
    "The running Python environment is determined by the *kernel setting* of your notebook and not, for example, by the virtualenv you happen to be in.\n",
    "\n",
    "Here's where your shell environment will find python, pip etc:"
   ]
  },
  {
   "cell_type": "code",
   "execution_count": 25,
   "metadata": {
    "scrolled": true
   },
   "outputs": [
    {
     "name": "stdout",
     "output_type": "stream",
     "text": [
      "/Users/qsf/Dropbox/University/Lectures/The_Modern_Lab_Notebook/env/bin/python\r\n"
     ]
    }
   ],
   "source": [
    "!which python"
   ]
  },
  {
   "cell_type": "markdown",
   "metadata": {},
   "source": [
    "That's often the Python that's running the notebook server."
   ]
  },
  {
   "cell_type": "markdown",
   "metadata": {},
   "source": [
    "And here's the Python running *this notebook*, defined by the choice of kernel:"
   ]
  },
  {
   "cell_type": "code",
   "execution_count": 26,
   "metadata": {},
   "outputs": [
    {
     "data": {
      "text/plain": [
       "'/Users/qsf/Dropbox/University/Lectures/The_Modern_Lab_Notebook/env/bin/python'"
      ]
     },
     "execution_count": 26,
     "metadata": {},
     "output_type": "execute_result"
    }
   ],
   "source": [
    "import sys\n",
    "sys.executable"
   ]
  },
  {
   "cell_type": "markdown",
   "metadata": {},
   "source": [
    "If these are the same, then you can install things with, for example:"
   ]
  },
  {
   "cell_type": "code",
   "execution_count": null,
   "metadata": {},
   "outputs": [],
   "source": [
    "!pip install numpy"
   ]
  },
  {
   "cell_type": "markdown",
   "metadata": {},
   "source": [
    "and have them available in your notebook.\n",
    "\n",
    "The safest way to install packages from within a notebook is to use something like:"
   ]
  },
  {
   "cell_type": "code",
   "execution_count": null,
   "metadata": {},
   "outputs": [],
   "source": [
    "!{sys.executable} -m pip install numpy"
   ]
  },
  {
   "cell_type": "markdown",
   "metadata": {},
   "source": [
    "### For the curious...\n",
    "\n",
    "If you want to create a new Python kernel for your Jupyter world, you need the `ipykernel` module:\n",
    "    \n",
    "    python -m ipykernel install --user \\\n",
    "       --name labnotebook \\\n",
    "\t   --display-name \"Lab Notebook Lecture\"\n",
    "      "
   ]
  },
  {
   "cell_type": "code",
   "execution_count": null,
   "metadata": {},
   "outputs": [],
   "source": [
    "!jupyter kernelspec list"
   ]
  },
  {
   "cell_type": "code",
   "execution_count": null,
   "metadata": {},
   "outputs": [],
   "source": [
    "!cat /Users/qsf/Library/Jupyter/kernels/labnotebook/kernel.json"
   ]
  },
  {
   "cell_type": "markdown",
   "metadata": {},
   "source": [
    "## A bit of fun\n",
    "\n",
    "Since cells can contain Markdown, which is rendered when you execute the cell, you can include links to live sources, such as webcams."
   ]
  },
  {
   "cell_type": "markdown",
   "metadata": {},
   "source": [
    "Coniston\n",
    "\n",
    "![Coniston](https://www.coppermines.co.uk/sites/default/files/webcam32.jpg?forcerefresh=11)\n",
    "\n"
   ]
  },
  {
   "cell_type": "markdown",
   "metadata": {},
   "source": [
    "## And lastly...\n",
    "\n",
    "Close and Halt\n"
   ]
  }
 ],
 "metadata": {
  "kernelspec": {
   "display_name": "Lab Notebook Lecture",
   "language": "python",
   "name": "labnotebook"
  },
  "language_info": {
   "codemirror_mode": {
    "name": "ipython",
    "version": 3
   },
   "file_extension": ".py",
   "mimetype": "text/x-python",
   "name": "python",
   "nbconvert_exporter": "python",
   "pygments_lexer": "ipython3",
   "version": "3.7.5"
  }
 },
 "nbformat": 4,
 "nbformat_minor": 2
}
