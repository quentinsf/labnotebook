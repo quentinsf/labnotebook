{
 "cells": [
  {
   "cell_type": "markdown",
   "metadata": {
    "slideshow": {
     "slide_type": "slide"
    }
   },
   "source": [
    "# Introduction: The basics of a Notebook\n",
    "\n",
    "You can write standard Python:"
   ]
  },
  {
   "cell_type": "code",
   "execution_count": null,
   "metadata": {
    "slideshow": {
     "slide_type": "fragment"
    }
   },
   "outputs": [],
   "source": [
    "import math\n",
    "import csv"
   ]
  },
  {
   "cell_type": "code",
   "execution_count": null,
   "metadata": {
    "slideshow": {
     "slide_type": "fragment"
    }
   },
   "outputs": [],
   "source": [
    "x=4*math.pi\n",
    "math.sqrt(3**x)"
   ]
  },
  {
   "cell_type": "markdown",
   "metadata": {
    "slideshow": {
     "slide_type": "fragment"
    }
   },
   "source": [
    "Cells, a bit like in a spreadsheet, but much, much better. "
   ]
  },
  {
   "cell_type": "markdown",
   "metadata": {
    "slideshow": {
     "slide_type": "slide"
    }
   },
   "source": [
    "## Two modes\n",
    "\n",
    "**Command Mode** and **Edit Mode**\n",
    "\n",
    "Return and Esc switch between them."
   ]
  },
  {
   "cell_type": "code",
   "execution_count": null,
   "metadata": {},
   "outputs": [],
   "source": [
    "print(123)"
   ]
  },
  {
   "cell_type": "code",
   "execution_count": null,
   "metadata": {
    "slideshow": {
     "slide_type": "subslide"
    }
   },
   "outputs": [],
   "source": [
    "import requests\n",
    "resp = requests.get(\"https://quentinsf.com\")\n",
    "resp.content"
   ]
  },
  {
   "cell_type": "code",
   "execution_count": null,
   "metadata": {},
   "outputs": [],
   "source": [
    "x=1"
   ]
  },
  {
   "cell_type": "code",
   "execution_count": null,
   "metadata": {},
   "outputs": [],
   "source": [
    "x = x + 1\n",
    "x"
   ]
  },
  {
   "cell_type": "code",
   "execution_count": null,
   "metadata": {},
   "outputs": [],
   "source": []
  },
  {
   "cell_type": "markdown",
   "metadata": {
    "slideshow": {
     "slide_type": "slide"
    }
   },
   "source": [
    "## Two (main) cell types\n",
    "\n",
    "In a different type of cell, you can:\n",
    "\n",
    "* write Markdown\n",
    "* embed LaTeX equations in it\n",
    "\n",
    "So you can add comments to your code explaining that, to calculate your cycling speed, you must make use of the fact that\n",
    "\n",
    "\n",
    "$m = \\frac{m_0}{\\sqrt{1 - v^2/c^2}}$."
   ]
  },
  {
   "cell_type": "code",
   "execution_count": null,
   "metadata": {},
   "outputs": [],
   "source": []
  },
  {
   "cell_type": "code",
   "execution_count": null,
   "metadata": {},
   "outputs": [],
   "source": []
  },
  {
   "cell_type": "markdown",
   "metadata": {
    "slideshow": {
     "slide_type": "slide"
    }
   },
   "source": [
    "## Some basic operations and keystrokes:\n",
    "\n",
    "Toggling toolbars.\n",
    "\n",
    "* Return and Esc\n",
    "* A and B\n",
    "* X, C, V\n",
    "* DD\n",
    "\n",
    "The different types of Return:\n",
    "* Shift-Return\n",
    "* Ctrl-Return\n",
    "* Alt-Return\n",
    "\n",
    "Choosing cell type:\n",
    "* M (for Markdown)\n",
    "* Y (for code)"
   ]
  },
  {
   "cell_type": "code",
   "execution_count": null,
   "metadata": {},
   "outputs": [],
   "source": [
    "\"hello\" + \" world\"\n",
    "\n",
    "x = 2\n",
    "x"
   ]
  },
  {
   "cell_type": "code",
   "execution_count": null,
   "metadata": {},
   "outputs": [],
   "source": [
    "x += 1\n",
    "x"
   ]
  },
  {
   "cell_type": "code",
   "execution_count": null,
   "metadata": {},
   "outputs": [],
   "source": []
  },
  {
   "cell_type": "code",
   "execution_count": null,
   "metadata": {},
   "outputs": [],
   "source": [
    "x *2"
   ]
  },
  {
   "cell_type": "code",
   "execution_count": null,
   "metadata": {},
   "outputs": [],
   "source": [
    "y = 2"
   ]
  },
  {
   "cell_type": "markdown",
   "metadata": {},
   "source": [
    "Merging, splitting.  Other keyboard shortcuts on Help menu."
   ]
  },
  {
   "cell_type": "markdown",
   "metadata": {},
   "source": [
    "One underlying Python kernel behind each notebook."
   ]
  },
  {
   "cell_type": "code",
   "execution_count": null,
   "metadata": {},
   "outputs": [],
   "source": [
    "x = x + 1\n",
    "x"
   ]
  },
  {
   "cell_type": "code",
   "execution_count": null,
   "metadata": {},
   "outputs": [],
   "source": [
    "%load qhue.py"
   ]
  },
  {
   "cell_type": "markdown",
   "metadata": {},
   "source": [
    "Another useful one is `%%script`, which is the equivalent of the `#!` shebang in Unix scripts:"
   ]
  },
  {
   "cell_type": "code",
   "execution_count": null,
   "metadata": {},
   "outputs": [],
   "source": [
    "%%script bash\n",
    "\n",
    "for i in *.png\n",
    "do\n",
    "   BASE=$(echo \"$i\" | sed 's/\\.png//')\n",
    "   # Not actualy running it, for now\n",
    "   echo convert ${BASE}.png ${BASE}.jpg \n",
    "done\n"
   ]
  },
  {
   "cell_type": "markdown",
   "metadata": {},
   "source": [
    "Lots more examples to come.\n",
    "\n",
    "OK, how is a notebook stored?"
   ]
  },
  {
   "cell_type": "code",
   "execution_count": null,
   "metadata": {
    "scrolled": true
   },
   "outputs": [],
   "source": [
    "!ls *.ipynb"
   ]
  },
  {
   "cell_type": "code",
   "execution_count": null,
   "metadata": {},
   "outputs": [],
   "source": [
    "!head -n 100 \"00 Introduction.ipynb\""
   ]
  },
  {
   "cell_type": "markdown",
   "metadata": {},
   "source": [
    "## Sharing your notebooks\n",
    "\n",
    "You can just send people the .ipynb files; they'll contain your input and (optionally) your output.\n",
    "\n",
    "Other ways to view and run:\n",
    "\n",
    "* **nbconvert** - e.g. convert to static HTML, LaTeX, PDF, Python script, etc\n",
    "* **Github & Bitbucket** - rendered, but static, e.g. for [qhue](https://github.com/quentinsf/qhue)\n",
    "* **nbviewer** - http://nbviewer.jupyter.org\n",
    "* **binder** or **Azure notebooks** - take a github repo with notebooks, and run them in a Docker session   \\[mybinder.org\\]\n",
    "* **jupyterhub** - run locally to make jupyter environments available to users\n",
    "\n",
    "---"
   ]
  },
  {
   "cell_type": "markdown",
   "metadata": {},
   "source": [
    "## Understanding the kernel setting\n",
    "\n",
    "The running Python environment is determined by the *kernel setting* of your notebook and not, for example, by the virtualenv you happen to be in.\n",
    "\n",
    "Here's where your shell environment will find python, pip etc:"
   ]
  },
  {
   "cell_type": "code",
   "execution_count": null,
   "metadata": {
    "scrolled": true
   },
   "outputs": [],
   "source": [
    "!which python"
   ]
  },
  {
   "cell_type": "markdown",
   "metadata": {},
   "source": [
    "That's often the Python that's running the notebook server."
   ]
  },
  {
   "cell_type": "markdown",
   "metadata": {},
   "source": [
    "And here's the Python running *this notebook*, defined by the choice of kernel:"
   ]
  },
  {
   "cell_type": "code",
   "execution_count": null,
   "metadata": {},
   "outputs": [],
   "source": [
    "import sys\n",
    "sys.executable"
   ]
  },
  {
   "cell_type": "markdown",
   "metadata": {},
   "source": [
    "If these are the same, then you can install things with, for example:"
   ]
  },
  {
   "cell_type": "code",
   "execution_count": null,
   "metadata": {},
   "outputs": [],
   "source": [
    "!pip install numpy"
   ]
  },
  {
   "cell_type": "markdown",
   "metadata": {},
   "source": [
    "and have them available in your notebook.\n",
    "\n",
    "The safest way to install packages from within a notebook is to use something like:"
   ]
  },
  {
   "cell_type": "code",
   "execution_count": null,
   "metadata": {},
   "outputs": [],
   "source": [
    "!{sys.executable} -m pip install numpy"
   ]
  },
  {
   "cell_type": "markdown",
   "metadata": {},
   "source": [
    "### For the curious...\n",
    "\n",
    "If you want to create a new Python kernel for your Jupyter world, you need the `ipykernel` module:\n",
    "    \n",
    "    python -m ipykernel install --user \\\n",
    "       --name labnotebook \\\n",
    "\t   --display-name \"Lab Notebook Lecture\"\n",
    "      "
   ]
  },
  {
   "cell_type": "code",
   "execution_count": null,
   "metadata": {},
   "outputs": [],
   "source": [
    "!jupyter kernelspec list"
   ]
  },
  {
   "cell_type": "code",
   "execution_count": null,
   "metadata": {},
   "outputs": [],
   "source": [
    "!cat /Users/qsf/Library/Jupyter/kernels/labnotebook/kernel.json"
   ]
  },
  {
   "cell_type": "markdown",
   "metadata": {},
   "source": [
    "## A bit of fun\n",
    "\n",
    "Since cells can contain Markdown, which is rendered when you execute the cell, you can include links to live sources, such as webcams."
   ]
  },
  {
   "cell_type": "markdown",
   "metadata": {},
   "source": [
    "Coniston\n",
    "\n",
    "![Coniston](https://www.coppermines.co.uk/sites/default/files/webcam32.jpg?forcerefresh=11)\n",
    "\n"
   ]
  },
  {
   "cell_type": "markdown",
   "metadata": {},
   "source": [
    "## And lastly...\n",
    "\n",
    "Close and Halt\n"
   ]
  }
 ],
 "metadata": {
  "kernelspec": {
   "display_name": "Lab Notebook Lecture",
   "language": "python",
   "name": "labnotebook"
  },
  "language_info": {
   "codemirror_mode": {
    "name": "ipython",
    "version": 3
   },
   "file_extension": ".py",
   "mimetype": "text/x-python",
   "name": "python",
   "nbconvert_exporter": "python",
   "pygments_lexer": "ipython3",
   "version": "3.7.5"
  }
 },
 "nbformat": 4,
 "nbformat_minor": 2
}
