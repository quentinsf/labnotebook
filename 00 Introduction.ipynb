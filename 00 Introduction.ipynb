{
 "cells": [
  {
   "cell_type": "markdown",
   "metadata": {
    "slideshow": {
     "slide_type": "slide"
    }
   },
   "source": [
    "# Introduction: The basics of a Notebook\n",
    "\n",
    "You can write standard Python:"
   ]
  },
  {
   "cell_type": "code",
   "execution_count": 15,
   "metadata": {
    "slideshow": {
     "slide_type": "fragment"
    }
   },
   "outputs": [],
   "source": [
    "import math\n",
    "import csv"
   ]
  },
  {
   "cell_type": "code",
   "execution_count": 16,
   "metadata": {
    "slideshow": {
     "slide_type": "fragment"
    }
   },
   "outputs": [
    {
     "data": {
      "text/plain": [
       "77.8802336483881"
      ]
     },
     "execution_count": 16,
     "metadata": {},
     "output_type": "execute_result"
    }
   ],
   "source": [
    "x=4*math.pi\n",
    "math.sqrt(2**x)"
   ]
  },
  {
   "cell_type": "markdown",
   "metadata": {
    "slideshow": {
     "slide_type": "fragment"
    }
   },
   "source": [
    "Cells, a bit like in a spreadsheet, but much, much better. "
   ]
  },
  {
   "cell_type": "markdown",
   "metadata": {
    "slideshow": {
     "slide_type": "slide"
    }
   },
   "source": [
    "## Cell Types\n",
    "\n",
    "In a different type of cell, you can:\n",
    "\n",
    "* write Markdown\n",
    "* embed LaTeX equations in it\n",
    "\n",
    "So you can add comments to your code explaining that, to calculate your cycling speed, you must make use of the fact that\n",
    "\n",
    "\n",
    "$m = \\frac{m_0}{\\sqrt{1 - v^2/c^2}}$."
   ]
  },
  {
   "cell_type": "markdown",
   "metadata": {
    "slideshow": {
     "slide_type": "slide"
    }
   },
   "source": [
    "## Two modes\n",
    "\n",
    "Command Mode and Edit Mode"
   ]
  },
  {
   "cell_type": "code",
   "execution_count": 17,
   "metadata": {
    "slideshow": {
     "slide_type": "subslide"
    }
   },
   "outputs": [
    {
     "data": {
      "text/plain": [
       "b'<!doctype html>\\n<html lang=\"en\">\\n\\n\\n<head>\\n<meta http-equiv=\"Content-type\" content=\"text/html; charset=utf-8\">\\n<meta name=\"viewport\" content=\"width=device-width, initial-scale=1.0\">\\n<meta name=\"keywords\" content=\"\">\\n<meta name=\"description\" content=\"Thanks for visiting my site! There&#39;s quite a lot of information here, but I promise you that I didn&#39;t set out to build such a substantial monument to myself online! It just kept growing gradually since around the start of the millennium, and I&#39;m not very good at trimming it. So you might appreciate...\">\\n<title>Quentin Stafford-Fraser | Quentin Stafford-Fraser</title>\\n<link rel=\"shortcut icon\" href=\"/static/img/favicon.ico\">\\n\\n\\n\\n<link rel=\"stylesheet\" href=\"/static/CACHE/css/329e17da25f0.css\" type=\"text/css\" />\\n\\n<script type=\"text/javascript\" src=\"/static/CACHE/js/3df4b36b4a71.js\"></script>\\n\\n<!--[if lt IE 9]>\\n<script src=\"/static/js/html5shiv.js\"></script>\\n<script src=\"/static/js/respond.min.js\"></script>\\n<![endif]-->\\n\\n\\n</head>\\n\\n<body id=\"body\">\\n\\n<div id=\"outer\" class=\"container\">\\n<div id=\"header\" class=\"row\">\\n    <div class=\"col-xs-3 col-md-3\"><a class=\"site-title\" href=\"/\"><span class=\"glyphicon glyphicon-home\" aria-hidden=\"true\"></span></a></div>\\n    <div class=\"col-xs-9 col-md-9 site-title\">\\n    <a class=\"site-title\" href=\"/\">Quentin Stafford-Fraser</a></div>\\n</div>\\n\\n<div id=\"topmenu\" class=\"row\">\\n    \\n    <div class=\"col-md-12 col-sm-12 col-xs-6\">\\n    \\n\\n<ul id=\"primary-menu\" class=\"nav navbar-nav\"><li id=\"primary-menu--\"\\n        class=\"active\"><a href=\"/\">About Quentin</a></li><li id=\"primary-menu-companies\"\\n        class=\"\"><a href=\"/companies/\">Companies</a></li><li id=\"primary-menu-writings\"\\n        class=\"\"><a href=\"/writings/\">Writing</a></li><li id=\"primary-menu-talks\"\\n        class=\"\"><a href=\"/talks/\">Talks &amp; Interviews</a></li><li id=\"primary-menu-research\"\\n        class=\"\"><a href=\"/research/\">Research</a></li><li id=\"primary-menu-personal\"\\n        class=\"\"><a href=\"/personal/\">Personal &amp; Fun</a></li><li id=\"primary-menu-software\"\\n        class=\"\"><a href=\"/software/\">Software</a></li><li id=\"primary-menu-http:--statusq.org\"\\n        class=\" last\"><a href=\"http://statusq.org\">Blog</a></li><li class=\"divider-vertical\"></li></ul>\\n\\n    </div>\\n\\n    <!-- Used on very narrow devices, like phones -->\\n    <div id=\"toptree\" class=\"col-xs-6 visible-xs\">\\n    \\n\\n<ul class=\"nav nav-list navlist-menu-level-0 \"><!-- if page.is_current_or_ascendant or not page.is_primary --><div class=\"menu-primary-link\"><a href=\"/\">About Quentin</a></div><li class=\"\\n     active\\n     active-branch\\n    \" id=\"tree-menu--\"></li><!-- if page.is_current_or_ascendant or not page.is_primary --><li class=\"\\n    \\n    \\n    \" id=\"tree-menu-companies\"><ul class=\"nav nav-list navlist-menu-level-1 \"><!-- if page.is_current_or_ascendant or not page.is_primary --><!-- if page.is_current_or_ascendant or not page.is_primary --><!-- if page.is_current_or_ascendant or not page.is_primary --><!-- if page.is_current_or_ascendant or not page.is_primary --><!-- if page.is_current_or_ascendant or not page.is_primary --></ul></li><!-- if page.is_current_or_ascendant or not page.is_primary --><li class=\"\\n    \\n    \\n    \" id=\"tree-menu-writings\"><ul class=\"nav nav-list navlist-menu-level-1 \"><!-- if page.is_current_or_ascendant or not page.is_primary --><!-- if page.is_current_or_ascendant or not page.is_primary --><!-- if page.is_current_or_ascendant or not page.is_primary --></ul></li><!-- if page.is_current_or_ascendant or not page.is_primary --><li class=\"\\n    \\n    \\n    \" id=\"tree-menu-talks\"><ul class=\"nav nav-list navlist-menu-level-1 \"><!-- if page.is_current_or_ascendant or not page.is_primary --><!-- if page.is_current_or_ascendant or not page.is_primary --><!-- if page.is_current_or_ascendant or not page.is_primary --><!-- if page.is_current_or_ascendant or not page.is_primary --><!-- if page.is_current_or_ascendant or not page.is_primary --><!-- if page.is_current_or_ascendant or not page.is_primary --><!-- if page.is_current_or_ascendant or not page.is_primary --><!-- if page.is_current_or_ascendant or not page.is_primary --><!-- if page.is_current_or_ascendant or not page.is_primary --><!-- if page.is_current_or_ascendant or not page.is_primary --><!-- if page.is_current_or_ascendant or not page.is_primary --><!-- if page.is_current_or_ascendant or not page.is_primary --><!-- if page.is_current_or_ascendant or not page.is_primary --><!-- if page.is_current_or_ascendant or not page.is_primary --><!-- if page.is_current_or_ascendant or not page.is_primary --><!-- if page.is_current_or_ascendant or not page.is_primary --><!-- if page.is_current_or_ascendant or not page.is_primary --><!-- if page.is_current_or_ascendant or not page.is_primary --></ul></li><!-- if page.is_current_or_ascendant or not page.is_primary --><li class=\"\\n    \\n    \\n    \" id=\"tree-menu-research\"><ul class=\"nav nav-list navlist-menu-level-1 \"><!-- if page.is_current_or_ascendant or not page.is_primary --><!-- if page.is_current_or_ascendant or not page.is_primary --><!-- if page.is_current_or_ascendant or not page.is_primary --><!-- if page.is_current_or_ascendant or not page.is_primary --></ul></li><!-- if page.is_current_or_ascendant or not page.is_primary --><li class=\"\\n    \\n    \\n    \" id=\"tree-menu-personal\"><ul class=\"nav nav-list navlist-menu-level-1 \"><!-- if page.is_current_or_ascendant or not page.is_primary --><!-- if page.is_current_or_ascendant or not page.is_primary --><!-- if page.is_current_or_ascendant or not page.is_primary --></ul></li><!-- if page.is_current_or_ascendant or not page.is_primary --><li class=\"\\n    \\n    \\n    \" id=\"tree-menu-software\"><ul class=\"nav nav-list navlist-menu-level-1 \"><!-- if page.is_current_or_ascendant or not page.is_primary --><!-- if page.is_current_or_ascendant or not page.is_primary --><!-- if page.is_current_or_ascendant or not page.is_primary --><!-- if page.is_current_or_ascendant or not page.is_primary --><!-- if page.is_current_or_ascendant or not page.is_primary --><!-- if page.is_current_or_ascendant or not page.is_primary --><!-- if page.is_current_or_ascendant or not page.is_primary --><!-- if page.is_current_or_ascendant or not page.is_primary --><!-- if page.is_current_or_ascendant or not page.is_primary --></ul></li><!-- if page.is_current_or_ascendant or not page.is_primary --><li class=\"\\n    \\n    \\n    \" id=\"tree-menu-http:--statusq.org\"></li></ul>\\n\\n\\n    </div>\\n    \\n</div>\\n\\n<div class=\"row\">\\n\\n\\n<div id=\"left-column\" class=\"col-md-2 col-sm-2 hidden-xs\">\\n    \\n    <div id=\"leftmenu\" class=\"panel panel-default\">\\n\\n<ul class=\"nav nav-list navlist-menu-level-0 \"><!-- if page.is_current_or_ascendant or not page.is_primary --><div class=\"menu-primary-link\"><a href=\"/\">About Quentin</a></div><li class=\"\\n     active\\n     active-branch\\n    \" id=\"tree-menu--\"></li><!-- if page.is_current_or_ascendant or not page.is_primary --><li class=\"\\n    \\n    \\n    \" id=\"tree-menu-companies\"><ul class=\"nav nav-list navlist-menu-level-1 \"><!-- if page.is_current_or_ascendant or not page.is_primary --><!-- if page.is_current_or_ascendant or not page.is_primary --><!-- if page.is_current_or_ascendant or not page.is_primary --><!-- if page.is_current_or_ascendant or not page.is_primary --><!-- if page.is_current_or_ascendant or not page.is_primary --></ul></li><!-- if page.is_current_or_ascendant or not page.is_primary --><li class=\"\\n    \\n    \\n    \" id=\"tree-menu-writings\"><ul class=\"nav nav-list navlist-menu-level-1 \"><!-- if page.is_current_or_ascendant or not page.is_primary --><!-- if page.is_current_or_ascendant or not page.is_primary --><!-- if page.is_current_or_ascendant or not page.is_primary --></ul></li><!-- if page.is_current_or_ascendant or not page.is_primary --><li class=\"\\n    \\n    \\n    \" id=\"tree-menu-talks\"><ul class=\"nav nav-list navlist-menu-level-1 \"><!-- if page.is_current_or_ascendant or not page.is_primary --><!-- if page.is_current_or_ascendant or not page.is_primary --><!-- if page.is_current_or_ascendant or not page.is_primary --><!-- if page.is_current_or_ascendant or not page.is_primary --><!-- if page.is_current_or_ascendant or not page.is_primary --><!-- if page.is_current_or_ascendant or not page.is_primary --><!-- if page.is_current_or_ascendant or not page.is_primary --><!-- if page.is_current_or_ascendant or not page.is_primary --><!-- if page.is_current_or_ascendant or not page.is_primary --><!-- if page.is_current_or_ascendant or not page.is_primary --><!-- if page.is_current_or_ascendant or not page.is_primary --><!-- if page.is_current_or_ascendant or not page.is_primary --><!-- if page.is_current_or_ascendant or not page.is_primary --><!-- if page.is_current_or_ascendant or not page.is_primary --><!-- if page.is_current_or_ascendant or not page.is_primary --><!-- if page.is_current_or_ascendant or not page.is_primary --><!-- if page.is_current_or_ascendant or not page.is_primary --><!-- if page.is_current_or_ascendant or not page.is_primary --></ul></li><!-- if page.is_current_or_ascendant or not page.is_primary --><li class=\"\\n    \\n    \\n    \" id=\"tree-menu-research\"><ul class=\"nav nav-list navlist-menu-level-1 \"><!-- if page.is_current_or_ascendant or not page.is_primary --><!-- if page.is_current_or_ascendant or not page.is_primary --><!-- if page.is_current_or_ascendant or not page.is_primary --><!-- if page.is_current_or_ascendant or not page.is_primary --></ul></li><!-- if page.is_current_or_ascendant or not page.is_primary --><li class=\"\\n    \\n    \\n    \" id=\"tree-menu-personal\"><ul class=\"nav nav-list navlist-menu-level-1 \"><!-- if page.is_current_or_ascendant or not page.is_primary --><!-- if page.is_current_or_ascendant or not page.is_primary --><!-- if page.is_current_or_ascendant or not page.is_primary --></ul></li><!-- if page.is_current_or_ascendant or not page.is_primary --><li class=\"\\n    \\n    \\n    \" id=\"tree-menu-software\"><ul class=\"nav nav-list navlist-menu-level-1 \"><!-- if page.is_current_or_ascendant or not page.is_primary --><!-- if page.is_current_or_ascendant or not page.is_primary --><!-- if page.is_current_or_ascendant or not page.is_primary --><!-- if page.is_current_or_ascendant or not page.is_primary --><!-- if page.is_current_or_ascendant or not page.is_primary --><!-- if page.is_current_or_ascendant or not page.is_primary --><!-- if page.is_current_or_ascendant or not page.is_primary --><!-- if page.is_current_or_ascendant or not page.is_primary --><!-- if page.is_current_or_ascendant or not page.is_primary --></ul></li><!-- if page.is_current_or_ascendant or not page.is_primary --><li class=\"\\n    \\n    \\n    \" id=\"tree-menu-http:--statusq.org\"></li></ul>\\n\\n</div>\\n    \\n</div>\\n\\n<div id=\"main-content\" class=\"main-content col-md-8 col-sm-10 col-xs-12\">\\n\\n    \\n    \\n    \\n\\n    <h1>\\nAbout Quentin\\n</h1>\\n\\n    \\n<!--\\nThis template is provided as a custom template for the homepage, for\\nwhen it is configured as an editable page in the navigation tree. Feel\\nfree to modify it.\\n-->\\n\\n\\n\\n\\n<p><em>Thanks for visiting my site! There\\'s quite a lot of information here, but I promise you that I didn\\'t set out to build such a substantial monument to myself online! It just kept growing gradually since around the start of the millennium, and I\\'m not very good at trimming it. So you might appreciate...</em></p>\\n<h2><span>An executive summary:</span></h2>\\n<ul>\\n<li>I have a small company called \\'<a href=\"http://telemarq.com\">Telemarq</a>\\', which does a mix of strategy consultancy, software development, photography, teaching, writing, and has some products of its own in the pipeline.</li>\\n<li>I also have a part-time research post at the <a href=\"http://www.cl.cam.ac.uk/~qs101/\">Cambridge University Computer Lab</a>, currently working on <a href=\"/endeavour/\" target=\"_blank\">the Endeavour project</a>,&nbsp;where I have a particular interest in the changing role and experiences of car drivers as we move to autonomous vehicles and electric powertrains. <br />Before that I was working on <a href=\"/pico/\" title=\"Pico\">Pico</a>.</li>\\n<li>I have a blog called Status-Q at <a href=\"https://statusq.org/\" target=\"_top\">statusq.org</a>.</li>\\n<li>You can find me as \\'quentinsf\\' on most online services, and my name makes me easy to search for on others! Keep in touch on <a href=\"https://twitter.com/quentinsf\">Twitter</a>, <a href=\"https://www.youtube.com/user/quentinsf\" target=\"_blank\">YouTube</a>,&nbsp;<a href=\"http://500px.com/quentinsf\">500px</a> and <a href=\"http://flickr.com/photos/quentinsf\">Flickr</a>, <a href=\"http://uk.linkedin.com/in/quentinsf\">LinkedIn</a> and Skype, <a href=\"https://github.com/quentinsf\">GitHub</a> and <a href=\"http://en.wikipedia.org/wiki/Quentin_Stafford-Fraser\">Wikipedia</a>, <a href=\"http://google.com/+QuentinStaffordFraser\">Google+</a> and <a href=\"http://scholar.google.co.uk/citations?user=VMoALpsAAAAJ\">Google Scholar</a>. &nbsp;You can email me as quentin<span><em>@</em>pobox.com</span>.</li>\\n<li>I love gadgets, and have quite a few of them around the house, but my latest one is the biggest yet - I bought <a href=\"https://statusq.org/archives/2015/11/29/7137/\" target=\"_blank\">an electric car</a>!</li>\\n<li>My previous startup, before Telemarq, was Camvine (Cambridge Visual Networks), a company developing new applications based around networked displays, which I started in 2007. You can read more about Camvine <a href=\"/companies/camvine/\">here</a>.</li>\\n<li>I was also a founder and managing director of the <a href=\"/companies/ndiyo/\" target=\"_blank\">Ndiyo</a> project. This attempted to find new, more affordable network computing architectures for the billions of people who will <i>never</i> be able to afford one PC each.</li>\\n<li>Before that I was working on <a href=\"/companies/exbiblio/\">Exbiblio</a>, which I co-founded in 2004, with the aim of endowing paper documents with some of the power of digital ones.</li>\\n<li>I also co-founded Newnham Research, now <a href=\"/companies/displaylink/\" target=\"_blank\">DisplayLink</a>, in 2003 and was the CEO for its first couple of years.&nbsp;</li>\\n<li>I have often been credited in the media with inventing the webcam. This is not entirely justified, though I certainly did have something to do with it. You can find the story <a href=\"/quentin/coffeepot\">here</a>.</li>\\n<li>I\\'ve authored and/or been listed as an inventor on <a href=\"/patents/\">dozens of patents</a>. None of these have yet made me any money, but they\\'ve done OK for other people! Most are now owned by Google.</li>\\n<li>For several years I was a Research Scientist at AT&amp;T Laboratories Cambridge, UK, the lab which was formerly ORL. You can find out about what I did at AT&amp;T <a href=\"/research/orl-att/\">here</a>.</li>\\n<li>I did <a href=\"/phd/\">a Ph.D. on Augmented Reality</a> in the <a href=\"http://www.cl.cam.ac.uk/Research/Rainbow/\" target=\"_top\">Rainbow Group</a> at the <a href=\"http://www.cl.cam.ac.uk/\" target=\"_top\">University of Cambridge Computer Lab</a>. I was sponsored by (and spent much of my time at) Xerox EuroPARC. More details on my research interests can be found <a href=\"/research/\">here</a>.</li>\\n<li>I was, I think, the first full-time Computer Officer at a Cambridge college. During this time, I believe I may have created <a href=\"/software/venn\">the world\\'s first ten-set Venn diagram</a>.</li>\\n<li>If your browser will let you, you can also hear me say <a href=\"/files/me.au\">hello</a>. You can find some other personal info <a href=\"/quentin/personal/\">here</a>.</li>\\n<li>I think I ran the first web server in Cambridge. I certainly ran the first one in the University, which then became the platform for Computer Science students who wanted to do projects around this new-fangled World Wide Web thing...</li>\\n</ul>\\n\\n\\n\\n\\n\\n    <div class=\"row\">\\n    <ul class=\"breadcrumb\">\\n    <li>Home</li>\\n    </ul>\\n    </div>\\n\\n</div>\\n\\n<div id=\"right-column\" class=\"col-md-2 col-sm-12 col-xs-12\">\\n    \\n    <img id=\"biopic\" src=\"/static/img/qsf-lab-square.jpg\" class=\"hidden-sm hidden-xs\"/>\\n    \\n    \\n    \\n\\n\\n    \\n    <div class=\"panel panel-default\">\\n    <div class=\"panel-body\">\\n    \\n    \\n    \\n    </div>\\n    </div>\\n</div>\\n\\n\\n\\n</div>\\n\\n\\n<footer>\\n<div>\\n  \\n    \\n\\n\\n\\n\\n    <div class=\"row\">\\n    <p class=\"site-info text-center\">\\n\\n      \\n    </p>\\n    </div>\\n\\n</div>\\n</footer>\\n</div>\\n\\n\\n\\n\\n\\n\\n\\n\\n<script>\\n\\nvar _gaq = _gaq || [[\\'_trackPageview\\']];\\n_gaq.unshift([\\'_setAccount\\', \\'UA-3649094-11\\']);\\n(function(d, t) {\\n    var g = d.createElement(t),\\n        s = d.getElementsByTagName(t)[0];\\n    g.async = true;\\n    g.src = \\'//www.google-analytics.com/ga.js\\';\\n    s.parentNode.insertBefore(g, s);\\n})(document, \\'script\\');\\n\\n</script>\\n\\n\\n</body>\\n</html>\\n\\n\\n'"
      ]
     },
     "execution_count": 17,
     "metadata": {},
     "output_type": "execute_result"
    }
   ],
   "source": [
    "import requests\n",
    "resp = requests.get(\"https://quentinsf.com\")\n",
    "resp.content"
   ]
  },
  {
   "cell_type": "markdown",
   "metadata": {
    "slideshow": {
     "slide_type": "slide"
    }
   },
   "source": [
    "## Some basic operations and keystrokes:\n",
    "\n",
    "Toggling toolbars.\n",
    "\n",
    "* Return and Esc\n",
    "* A and B\n",
    "* X, C, V\n",
    "* DD\n",
    "\n",
    "The different types of Return:\n",
    "* Shift-Return\n",
    "* Ctrl-Return\n",
    "* Alt-Return"
   ]
  },
  {
   "cell_type": "code",
   "execution_count": 18,
   "metadata": {},
   "outputs": [
    {
     "data": {
      "text/plain": [
       "2"
      ]
     },
     "execution_count": 18,
     "metadata": {},
     "output_type": "execute_result"
    }
   ],
   "source": [
    "x = 2\n",
    "x"
   ]
  },
  {
   "cell_type": "code",
   "execution_count": 14,
   "metadata": {},
   "outputs": [
    {
     "data": {
      "text/plain": [
       "10"
      ]
     },
     "execution_count": 14,
     "metadata": {},
     "output_type": "execute_result"
    }
   ],
   "source": [
    "x += 1\n",
    "x"
   ]
  },
  {
   "cell_type": "code",
   "execution_count": 13,
   "metadata": {},
   "outputs": [],
   "source": [
    "y = 2"
   ]
  },
  {
   "cell_type": "markdown",
   "metadata": {},
   "source": [
    "Merging, splitting.  Other keyboard shortcuts on Help menu."
   ]
  },
  {
   "cell_type": "markdown",
   "metadata": {},
   "source": [
    "One underlying Python kernel behind each notebook."
   ]
  },
  {
   "cell_type": "code",
   "execution_count": null,
   "metadata": {},
   "outputs": [],
   "source": [
    "x = x + 1\n",
    "x"
   ]
  },
  {
   "cell_type": "code",
   "execution_count": null,
   "metadata": {},
   "outputs": [],
   "source": [
    "%load qhue.py\n"
   ]
  },
  {
   "cell_type": "markdown",
   "metadata": {},
   "source": [
    "Lots more examples to come.\n",
    "\n",
    "How is the notebook stored?"
   ]
  },
  {
   "cell_type": "code",
   "execution_count": 20,
   "metadata": {
    "scrolled": true
   },
   "outputs": [
    {
     "name": "stdout",
     "output_type": "stream",
     "text": [
      "00 Introduction.ipynb      03-Sound.ipynb\r\n",
      "01 NumPy.ipynb             04 Pandas.ipynb\r\n",
      "02-Image experiments.ipynb\r\n"
     ]
    }
   ],
   "source": [
    "!ls *.ipynb"
   ]
  },
  {
   "cell_type": "code",
   "execution_count": 21,
   "metadata": {},
   "outputs": [],
   "source": [
    "!code 00\\ Introduction.ipynb"
   ]
  },
  {
   "cell_type": "markdown",
   "metadata": {},
   "source": [
    "## Sharing your notebooks\n",
    "\n",
    "You can just send people the .ipynb files; they'll contain your input and (optionally) your output.\n",
    "\n",
    "Other ways to view and run:\n",
    "\n",
    "* nbconvert - e.g. convert to static HTML, LaTeX, PDF, Python script, etc\n",
    "* Github & Bitbucket - rendered, but static, e.g. for [qhue](https://github.com/quentinsf/qhue)\n",
    "* nbviewer - http://nbviewer.jupyter.org\n",
    "* binder - take a github repo with notebooks, and run them in a Docker session   mybinder.org\n",
    "* jupyterhub - run locally to make jupyter environments available to users\n"
   ]
  },
  {
   "cell_type": "code",
   "execution_count": null,
   "metadata": {},
   "outputs": [],
   "source": []
  }
 ],
 "metadata": {
  "kernelspec": {
   "display_name": "Lab Notebook Lecture",
   "language": "python",
   "name": "labnotebook"
  },
  "language_info": {
   "codemirror_mode": {
    "name": "ipython",
    "version": 3
   },
   "file_extension": ".py",
   "mimetype": "text/x-python",
   "name": "python",
   "nbconvert_exporter": "python",
   "pygments_lexer": "ipython3",
   "version": "3.7.0"
  }
 },
 "nbformat": 4,
 "nbformat_minor": 2
}
